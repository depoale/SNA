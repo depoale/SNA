{
 "cells": [
  {
   "cell_type": "code",
   "execution_count": 2,
   "metadata": {},
   "outputs": [],
   "source": [
    "import zstandard\n",
    "import os\n",
    "import json\n",
    "import sys\n",
    "from datetime import datetime\n",
    "import logging.handlers\n",
    "\n",
    "\n",
    "log = logging.getLogger(\"bot\")\n",
    "log.setLevel(logging.DEBUG)\n",
    "log.addHandler(logging.StreamHandler())\n",
    "\n",
    "\n",
    "def read_and_decode(reader, chunk_size, max_window_size, previous_chunk=None, bytes_read=0):\n",
    "\tchunk = reader.read(chunk_size)\n",
    "\tbytes_read += chunk_size\n",
    "\tif previous_chunk is not None:\n",
    "\t\tchunk = previous_chunk + chunk\n",
    "\ttry:\n",
    "\t\treturn chunk.decode()\n",
    "\texcept UnicodeDecodeError:\n",
    "\t\tif bytes_read > max_window_size:\n",
    "\t\t\traise UnicodeError(f\"Unable to decode frame after reading {bytes_read:,} bytes\")\n",
    "\t\tlog.info(f\"Decoding error with {bytes_read:,} bytes, reading another chunk\")\n",
    "\t\treturn read_and_decode(reader, chunk_size, max_window_size, chunk, bytes_read)\n",
    "\n",
    "\n",
    "def read_lines_zst(file_name):\n",
    "\twith open(file_name, 'rb') as file_handle:\n",
    "\t\tbuffer = ''\n",
    "\t\treader = zstandard.ZstdDecompressor(max_window_size=2**31).stream_reader(file_handle)\n",
    "\t\twhile True:\n",
    "\t\t\tchunk = read_and_decode(reader, 2**27, (2**29) * 2)\n",
    "\n",
    "\t\t\tif not chunk:\n",
    "\t\t\t\tbreak\n",
    "\t\t\tlines = (buffer + chunk).split(\"\\n\")\n",
    "\n",
    "\t\t\tfor line in lines[:-1]:\n",
    "\t\t\t\tyield line, file_handle.tell()\n",
    "\n",
    "\t\t\tbuffer = lines[-1]\n",
    "\n",
    "\t\treader.close()"
   ]
  },
  {
   "cell_type": "code",
   "execution_count": 3,
   "metadata": {},
   "outputs": [
    {
     "name": "stderr",
     "output_type": "stream",
     "text": [
      "2021-04-23 02:00:41 : 100,000 : 0 : 30,016,175:61%\n",
      "Complete : 192,593 : 0\n"
     ]
    }
   ],
   "source": [
    "file_path = \"data/mbti_submissions.zst\"\n",
    "file_size = os.stat(file_path).st_size\n",
    "file_lines = 0\n",
    "file_bytes_processed = 0\n",
    "created = None\n",
    "field = \"subreddit\"\n",
    "value = \"mbti\"\n",
    "bad_lines = 0\n",
    "objs = []\n",
    "# try:\n",
    "for line, file_bytes_processed in read_lines_zst(file_path):\n",
    "    try:\n",
    "        obj = json.loads(line)\n",
    "        objs.append(obj)\n",
    "        created = datetime.fromtimestamp(int(obj['created_utc']))\n",
    "        temp = obj[field] == value\n",
    "    except (KeyError, json.JSONDecodeError) as err:\n",
    "        bad_lines += 1\n",
    "    file_lines += 1\n",
    "    if file_lines % 100000 == 0:\n",
    "        log.info(f\"{created.strftime('%Y-%m-%d %H:%M:%S')} : {file_lines:,} : {bad_lines:,} : {file_bytes_processed:,}:{(file_bytes_processed / file_size) * 100:.0f}%\")\n",
    "\n",
    "# except Exception as err:\n",
    "# \tlog.info(err)\n",
    "\n",
    "log.info(f\"Complete : {file_lines:,} : {bad_lines:,}\")"
   ]
  },
  {
   "cell_type": "code",
   "execution_count": 13,
   "metadata": {},
   "outputs": [],
   "source": [
    "import pandas as pd\n",
    "df = pd.DataFrame(objs)"
   ]
  },
  {
   "cell_type": "code",
   "execution_count": 41,
   "metadata": {},
   "outputs": [
    {
     "data": {
      "text/plain": [
       "Index(['archived', 'author', 'author_flair_background_color',\n",
       "       'author_flair_css_class', 'author_flair_richtext', 'author_flair_text',\n",
       "       'author_flair_text_color', 'author_flair_type', 'brand_safe',\n",
       "       'can_gild',\n",
       "       ...\n",
       "       'poll_data', 'upvote_ratio', 'is_created_from_ads_ui', 'retrieved_utc',\n",
       "       'top_awarded_type', 'url_overridden_by_dest', 'gallery_data',\n",
       "       'is_gallery', 'call_to_action', 'collections'],\n",
       "      dtype='object', length=128)"
      ]
     },
     "execution_count": 41,
     "metadata": {},
     "output_type": "execute_result"
    }
   ],
   "source": [
    "df.keys()"
   ]
  },
  {
   "cell_type": "code",
   "execution_count": 26,
   "metadata": {},
   "outputs": [
    {
     "data": {
      "text/plain": [
       "127592                                Attitude Psyche Stuff\n",
       "133653                                  Most immature mbti?\n",
       "134100    Which MBTI is the most disconnected from world...\n",
       "134271                    Which type gets bored less often?\n",
       "134391    Which MBTI is the most physically active? (Int...\n",
       "                                ...                        \n",
       "191511    Which type when asked the question \"Why?\" they...\n",
       "191797    Which type gets annoyed when having to assume ...\n",
       "191932                    Guess which type I am most likely\n",
       "192134    Which type when in a classroom they are most i...\n",
       "192282    Who would get the most nervous when it is thei...\n",
       "Name: title, Length: 866, dtype: object"
      ]
     },
     "execution_count": 26,
     "metadata": {},
     "output_type": "execute_result"
    }
   ],
   "source": [
    "df[df['author'] == \"Hydra-Sagaria\"][\"title\"]"
   ]
  },
  {
   "cell_type": "code",
   "execution_count": 30,
   "metadata": {},
   "outputs": [
    {
     "data": {
      "text/plain": [
       "send_replies\n",
       "True     167962\n",
       "False      4803\n",
       "Name: count, dtype: int64"
      ]
     },
     "execution_count": 30,
     "metadata": {},
     "output_type": "execute_result"
    }
   ],
   "source": [
    "df['send_replies'].value_counts()"
   ]
  },
  {
   "cell_type": "code",
   "execution_count": 23,
   "metadata": {},
   "outputs": [
    {
     "data": {
      "text/plain": [
       "author\n",
       "Hydra-Sagaria           866\n",
       "Twili95                 560\n",
       "virekkartgod            485\n",
       "Wondering_Fairy         454\n",
       "RTX2080Ti0              356\n",
       "                       ... \n",
       "Equiin                    1\n",
       "help-help-help-           1\n",
       "just_a_normal_persom      1\n",
       "albumparty                1\n",
       "High__IQ__ENTJ            1\n",
       "Name: count, Length: 42474, dtype: int64"
      ]
     },
     "execution_count": 23,
     "metadata": {},
     "output_type": "execute_result"
    }
   ],
   "source": [
    "df[df['author'] != \"[deleted]\"]['author'].value_counts()"
   ]
  },
  {
   "cell_type": "code",
   "execution_count": 22,
   "metadata": {},
   "outputs": [
    {
     "data": {
      "text/plain": [
       "author_flair_text\n",
       "INTP                                  9536\n",
       "INFP                                  8407\n",
       "ENTP                                  8067\n",
       "INTJ                                  6310\n",
       "INFJ                                  6061\n",
       "                                      ... \n",
       "INTP?                                    1\n",
       "[INFP] 4w3                               1\n",
       "ISTP (yes, I'm sure. Stop asking.)       1\n",
       "[INFP 4w5]                               1\n",
       "[I][s]uck[F]at[P]enis                    1\n",
       "Name: count, Length: 287, dtype: int64"
      ]
     },
     "execution_count": 22,
     "metadata": {},
     "output_type": "execute_result"
    }
   ],
   "source": [
    "df[df['author'] != \"[deleted]\"]['author_flair_text'].value_counts()"
   ]
  },
  {
   "cell_type": "markdown",
   "metadata": {},
   "source": [
    "- \"author\"\n",
    "- \"author_flair_css_class\": label\n",
    "- \"title\": titolo del post\n",
    "- \"selftext\": testo del post\n",
    "- \"is_self\": indicates whether the post is a text post (i.e. not linking outside) or not — I used this to filter out any image or url posts.\n",
    "- "
   ]
  },
  {
   "cell_type": "code",
   "execution_count": 39,
   "metadata": {},
   "outputs": [
    {
     "data": {
      "text/plain": [
       "78"
      ]
     },
     "execution_count": 39,
     "metadata": {},
     "output_type": "execute_result"
    }
   ],
   "source": [
    "len(objs[100100].keys())"
   ]
  },
  {
   "cell_type": "code",
   "execution_count": 20,
   "metadata": {},
   "outputs": [
    {
     "data": {
      "text/plain": [
       "\"i have two friends who were in a relationship for a little while; one of them is ESTP 7w8 sp/sx, other is ENTP 7w8 sx/sp. I wasn't really good friends with them during the relationship so I don't know what they were like together but I imagine it was extremely chaotic at all times.\""
      ]
     },
     "execution_count": 20,
     "metadata": {},
     "output_type": "execute_result"
    }
   ],
   "source": [
    "obj['body']"
   ]
  },
  {
   "cell_type": "code",
   "execution_count": 7,
   "metadata": {},
   "outputs": [
    {
     "data": {
      "text/plain": [
       "True"
      ]
     },
     "execution_count": 7,
     "metadata": {},
     "output_type": "execute_result"
    }
   ],
   "source": [
    "temp"
   ]
  },
  {
   "cell_type": "code",
   "execution_count": 8,
   "metadata": {},
   "outputs": [
    {
     "data": {
      "text/plain": [
       "<Logger bot (DEBUG)>"
      ]
     },
     "execution_count": 8,
     "metadata": {},
     "output_type": "execute_result"
    }
   ],
   "source": [
    "log"
   ]
  }
 ],
 "metadata": {
  "kernelspec": {
   "display_name": "Python 3",
   "language": "python",
   "name": "python3"
  },
  "language_info": {
   "codemirror_mode": {
    "name": "ipython",
    "version": 3
   },
   "file_extension": ".py",
   "mimetype": "text/x-python",
   "name": "python",
   "nbconvert_exporter": "python",
   "pygments_lexer": "ipython3",
   "version": "3.11.6"
  }
 },
 "nbformat": 4,
 "nbformat_minor": 2
}
